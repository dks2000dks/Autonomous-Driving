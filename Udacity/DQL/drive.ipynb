{
 "cells": [
  {
   "cell_type": "markdown",
   "id": "45822aca",
   "metadata": {},
   "source": [
    "# Drive Udacity Simulator\n",
    "\n",
    "Driving Udacity Simulator using Python"
   ]
  },
  {
   "cell_type": "markdown",
   "metadata": {},
   "source": [
    "## Importing Libraries"
   ]
  },
  {
   "cell_type": "code",
   "execution_count": 1,
   "id": "0aac08c3",
   "metadata": {},
   "outputs": [],
   "source": [
    "import numpy as np\n",
    "import matplotlib.pyplot as plt\n",
    "import matplotlib.image as pimg\n",
    "import imageio\n",
    "from PIL import Image, ImageFilter\n",
    "import cv2\n",
    "import scipy\n",
    "import albumentations as albu\n",
    "import os\n",
    "import random\n",
    "import re\n",
    "\n",
    "# Libraries for IO Operations\n",
    "import argparse\n",
    "import base64\n",
    "from datetime import datetime\n",
    "import shutil\n",
    "import socketio\n",
    "import eventlet\n",
    "import eventlet.wsgi\n",
    "from flask import Flask\n",
    "from io import BytesIO\n",
    "\n",
    "from DeepQLearning import DQL\n",
    "from DeepQNetwork import DQN\n",
    "\n",
    "# PyTorch Libraries\n",
    "import torch as tr\n",
    "from torch.utils.data import DataLoader, Dataset\n",
    "from segmentation_models_pytorch.utils import base\n",
    "from torchinfo import summary\n",
    "import segmentation_models_pytorch as smp"
   ]
  },
  {
   "cell_type": "markdown",
   "id": "aa1aaf2b",
   "metadata": {},
   "source": [
    "## Connecting to Server"
   ]
  },
  {
   "cell_type": "code",
   "execution_count": 2,
   "id": "a0fd6f6b",
   "metadata": {},
   "outputs": [],
   "source": [
    "sio = socketio.Server()\n",
    "app = Flask(__name__)"
   ]
  },
  {
   "cell_type": "markdown",
   "metadata": {},
   "source": [
    "## Controller"
   ]
  },
  {
   "cell_type": "code",
   "execution_count": 3,
   "metadata": {},
   "outputs": [],
   "source": [
    "class SimplePIController:\n",
    "    def __init__(self, Kp, Ki):\n",
    "        self.Kp = Kp\n",
    "        self.Ki = Ki\n",
    "        self.set_point = 0.\n",
    "        self.error = 0.\n",
    "        self.integral = 0.\n",
    "\n",
    "    def set_desired(self, desired):\n",
    "        self.set_point = desired\n",
    "\n",
    "    def update(self, measurement):\n",
    "        # proportional error\n",
    "        self.error = self.set_point - measurement\n",
    "\n",
    "        # integral error\n",
    "        self.integral += self.error\n",
    "\n",
    "        return self.Kp * self.error + self.Ki * self.integral\n",
    "\n",
    "\n",
    "controller = SimplePIController(0.1, 0.002)\n",
    "set_speed = 9\n",
    "controller.set_desired(set_speed)"
   ]
  },
  {
   "cell_type": "markdown",
   "metadata": {},
   "source": [
    "## Connect and Send Control"
   ]
  },
  {
   "cell_type": "code",
   "execution_count": 4,
   "metadata": {},
   "outputs": [],
   "source": [
    "def sendControl(steering_angle, throttle):\n",
    "    sio.emit(\n",
    "        \"steer\",\n",
    "        data={\n",
    "            'steering_angle': steering_angle.__str__(),\n",
    "            'throttle': throttle.__str__()\n",
    "        },\n",
    "        skip_sid=True)\n",
    "\n",
    "\n",
    "@sio.on('connect')\n",
    "def connect(sid, environ):\n",
    "    print(\"Connection Established\")\n",
    "    sendControl(0, 0)"
   ]
  },
  {
   "cell_type": "markdown",
   "metadata": {},
   "source": [
    "## Telemetry"
   ]
  },
  {
   "cell_type": "code",
   "execution_count": 5,
   "metadata": {},
   "outputs": [],
   "source": [
    "@sio.on('telemetry')\n",
    "def telemetry(sid, data):\n",
    "\t# Current steering angle of the car\n",
    "\tsteering_angle = float(data[\"steering_angle\"])\n",
    "\n",
    "\t# Current throttle of the car\n",
    "\tthrottle = float(data[\"throttle\"])\n",
    "\n",
    "\t# Current speed of the car\n",
    "\tspeed = float(data[\"speed\"])\n",
    "\n",
    "\t# Current image from the center camera of the car\n",
    "\timgString = data[\"image\"]\n",
    "\timage = Image.open(BytesIO(base64.b64decode(imgString)))\n",
    "\timage = np.asarray(image)/255.0\n",
    "\n",
    "\t# Estimating actions\n",
    "\taction_throttle, action_steering_angle = Learn.getActions(image, speed, throttle, steering_angle)\n",
    "\tprint (\"Applied Throttle = \" + str(action_throttle) + \", Steering Angle = \" + str(action_steering_angle))\n",
    "\n",
    "\t# Sending control\n",
    "\tsendControl(action_steering_angle, action_throttle)"
   ]
  },
  {
   "cell_type": "markdown",
   "metadata": {},
   "source": [
    "## Starting"
   ]
  },
  {
   "cell_type": "markdown",
   "metadata": {},
   "source": [
    "Importing and Setting Parameters"
   ]
  },
  {
   "cell_type": "code",
   "execution_count": 6,
   "metadata": {},
   "outputs": [],
   "source": [
    "# Model Path\n",
    "Model_Path = \"Models/LaneDetection_Model.pth\"\n",
    "\n",
    "# Deep Q Learning\n",
    "Learn = DQL(\n",
    "\tDQN=DQN,\n",
    "\tLaneDetectionModel=tr.load(Model_Path),\n",
    "\tPreprocessing_Function=smp.encoders.get_preprocessing_fn(\"efficientnet-b0\", \"imagenet\"),\n",
    "\tWeights_Path=\"Models\",\n",
    "\tBatch_Size=16,\n",
    "\trandom_frames=25000,\n",
    "\tgreedy_frames=500000,\n",
    "\tmax_memory=100000,\n",
    "\tSteps_per_Model_Update=4,\n",
    "\tSteps_per_TargetModel_Update=10000,\n",
    "\tdiscount_rate=0.99,\n",
    "\tepsilon=1.0,\n",
    "\tmin_epsilon=0.1,\n",
    "\tmax_epsilon=1.0\n",
    ")"
   ]
  },
  {
   "cell_type": "markdown",
   "metadata": {},
   "source": [
    "Connecting to Servers"
   ]
  },
  {
   "cell_type": "code",
   "execution_count": 7,
   "metadata": {},
   "outputs": [
    {
     "name": "stdout",
     "output_type": "stream",
     "text": [
      "Wrap Flask application with engineio's middleware: Completed\n",
      "\n",
      "Connection Established\n",
      "Applied Throttle = 0.25, Steering Angle = 0.15\n"
     ]
    },
    {
     "name": "stderr",
     "output_type": "stream",
     "text": [
      "(24579) wsgi starting up on http://0.0.0.0:4567\n",
      "(24579) accepted ('127.0.0.1', 35101)\n"
     ]
    },
    {
     "name": "stdout",
     "output_type": "stream",
     "text": [
      "Applied Throttle = 0.1, Steering Angle = 0.0\n",
      "Applied Throttle = 0.15, Steering Angle = -0.15\n",
      "Applied Throttle = 0.2, Steering Angle = -0.5\n",
      "Applied Throttle = 0.25, Steering Angle = 0.25\n",
      "Applied Throttle = 0.5, Steering Angle = 0.35\n",
      "Applied Throttle = 0.2, Steering Angle = 0.25\n",
      "Applied Throttle = 0.5, Steering Angle = -0.4\n",
      "Applied Throttle = 0.15, Steering Angle = 0.3\n",
      "Applied Throttle = 0.3, Steering Angle = 0.4\n",
      "Applied Throttle = 0.0, Steering Angle = -0.4\n",
      "Applied Throttle = 0.35, Steering Angle = 0.5\n",
      "Applied Throttle = 0.0, Steering Angle = 0.45\n",
      "Applied Throttle = 0.5, Steering Angle = 0.4\n",
      "Applied Throttle = 0.3, Steering Angle = 0.1\n",
      "Applied Throttle = 0.05, Steering Angle = 0.15\n",
      "Applied Throttle = 0.05, Steering Angle = -0.05\n",
      "Applied Throttle = 0.2, Steering Angle = -0.5\n",
      "Applied Throttle = 0.1, Steering Angle = -0.05\n",
      "Applied Throttle = 0.05, Steering Angle = -0.15\n",
      "Applied Throttle = 0.15, Steering Angle = -0.25\n",
      "Applied Throttle = 0.05, Steering Angle = -0.45\n",
      "Applied Throttle = 0.05, Steering Angle = 0.35\n",
      "Applied Throttle = 0.4, Steering Angle = -0.2\n",
      "Applied Throttle = 0.2, Steering Angle = -0.25\n",
      "Applied Throttle = 0.45, Steering Angle = 0.05\n",
      "Applied Throttle = 0.15, Steering Angle = 0.5\n",
      "Applied Throttle = 0.05, Steering Angle = 0.05\n",
      "Applied Throttle = 0.3, Steering Angle = -0.45\n",
      "Applied Throttle = 0.05, Steering Angle = -0.2\n"
     ]
    },
    {
     "name": "stderr",
     "output_type": "stream",
     "text": [
      "(24579) accepted ('127.0.0.1', 40971)\n"
     ]
    },
    {
     "name": "stdout",
     "output_type": "stream",
     "text": [
      "Connection Established\n",
      "Applied Throttle = 0.5, Steering Angle = -0.3\n",
      "Applied Throttle = 0.15, Steering Angle = -0.45\n",
      "Applied Throttle = 0.45, Steering Angle = 0.15\n",
      "Applied Throttle = 0.2, Steering Angle = 0.35\n",
      "Applied Throttle = 0.5, Steering Angle = 0.4\n",
      "Applied Throttle = 0.3, Steering Angle = -0.5\n",
      "Applied Throttle = 0.4, Steering Angle = -0.3\n",
      "Applied Throttle = 0.45, Steering Angle = 0.45\n",
      "Applied Throttle = 0.3, Steering Angle = 0.25\n",
      "Applied Throttle = 0.1, Steering Angle = -0.45\n",
      "Applied Throttle = 0.35, Steering Angle = -0.3\n",
      "Applied Throttle = 0.4, Steering Angle = 0.45\n"
     ]
    },
    {
     "name": "stderr",
     "output_type": "stream",
     "text": [
      "(24579) accepted ('127.0.0.1', 42317)\n"
     ]
    },
    {
     "name": "stdout",
     "output_type": "stream",
     "text": [
      "Connection Established\n",
      "Applied Throttle = 0.35, Steering Angle = 0.15\n",
      "Applied Throttle = 0.35, Steering Angle = -0.5\n",
      "Applied Throttle = 0.0, Steering Angle = -0.15\n"
     ]
    },
    {
     "name": "stderr",
     "output_type": "stream",
     "text": [
      "127.0.0.1 - - [13/Nov/2021 19:40:52] \"GET /socket.io/?EIO=4&transport=websocket HTTP/1.1\" 200 0 1.720993\n"
     ]
    }
   ],
   "source": [
    "# Wrap Flask application with engineio's middleware\n",
    "app = socketio.Middleware(sio, app)\n",
    "print (\"Wrap Flask application with engineio's middleware: Completed\\n\")\n",
    "\n",
    "# Deploy as an eventlet WSGI server\n",
    "eventlet.wsgi.server(eventlet.listen(('', 4567)), app)\n",
    "print (\"Deploy as an eventlet WSGI server: Completed\\n\")"
   ]
  }
 ],
 "metadata": {
  "interpreter": {
   "hash": "31f2aee4e71d21fbe5cf8b01ff0e069b9275f58929596ceb00d14d90e3e16cd6"
  },
  "kernelspec": {
   "display_name": "Python 3.6.9 64-bit",
   "name": "python3"
  },
  "language_info": {
   "codemirror_mode": {
    "name": "ipython",
    "version": 3
   },
   "file_extension": ".py",
   "mimetype": "text/x-python",
   "name": "python",
   "nbconvert_exporter": "python",
   "pygments_lexer": "ipython3",
   "version": "3.6.9"
  }
 },
 "nbformat": 4,
 "nbformat_minor": 5
}
